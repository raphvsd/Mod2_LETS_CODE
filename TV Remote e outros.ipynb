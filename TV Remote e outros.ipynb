{
 "cells": [
  {
   "cell_type": "markdown",
   "metadata": {},
   "source": [
    "# Lista 1 - POO parte 1\n",
    "\n",
    "__________\n",
    "\n",
    "### Fundamentos\n",
    "\n",
    "__________"
   ]
  },
  {
   "cell_type": "markdown",
   "metadata": {},
   "source": [
    "___________"
   ]
  },
  {
   "cell_type": "markdown",
   "metadata": {},
   "source": [
    "1. Crie uma classe `Bola` cujos atributos são cor e raio. \n",
    "\n",
    "Crie um método para calcular a área dessa bola (obs.: a área de uma esfera é $\\frac{4}{3}\\pi r^3$). \n",
    "\n",
    "Crie um método que imprime a cor da bola. \n",
    "\n",
    "Crie um método para calcular o volume da bola (obs.: o volume de uma esfera é $4 \\pi r^2$). \n",
    "\n",
    "Crie um objeto dessa classe e calcule a área e o volume, imprimindo ambos em seguida."
   ]
  },
  {
   "cell_type": "code",
   "execution_count": null,
   "metadata": {},
   "outputs": [],
   "source": [
    "class Sphere:\n",
    "    \n",
    "    def __init__(self, radius, color):\n",
    "        \n",
    "        self.raio = radius\n",
    "        \n",
    "        self.cor = color\n",
    "    \n",
    "    def __repr__(self):\n",
    "        \n",
    "        return f\"R = {self.raio} cm e a cor é {self.cor}.\"\n",
    "        \n",
    "    def calcula_volume(self):\n",
    "        \n",
    "        return round((4*3.141592/3)*self.raio**3,1)\n",
    "    \n",
    "    def imprime_cor(self):\n",
    "        \n",
    "        print(f\"A cor da esfera é {self.cor}.\")\n",
    "    \n",
    "    def calcula_superficie(self):\n",
    "        \n",
    "        return round(4*3.141592*self.raio*2,1)"
   ]
  },
  {
   "cell_type": "code",
   "execution_count": null,
   "metadata": {},
   "outputs": [],
   "source": [
    "my_sphere = Sphere(3,\"azul\")"
   ]
  },
  {
   "cell_type": "code",
   "execution_count": null,
   "metadata": {},
   "outputs": [],
   "source": [
    "my_sphere"
   ]
  },
  {
   "cell_type": "code",
   "execution_count": null,
   "metadata": {},
   "outputs": [],
   "source": [
    "my_sphere.raio"
   ]
  },
  {
   "cell_type": "code",
   "execution_count": null,
   "metadata": {},
   "outputs": [],
   "source": [
    "my_sphere.cor"
   ]
  },
  {
   "cell_type": "code",
   "execution_count": null,
   "metadata": {},
   "outputs": [],
   "source": [
    "my_sphere.calcula_volume()"
   ]
  },
  {
   "cell_type": "code",
   "execution_count": null,
   "metadata": {},
   "outputs": [],
   "source": [
    "my_sphere.calcula_superficie()"
   ]
  },
  {
   "cell_type": "code",
   "execution_count": null,
   "metadata": {},
   "outputs": [],
   "source": [
    "my_sphere.imprime_cor()"
   ]
  },
  {
   "cell_type": "code",
   "execution_count": null,
   "metadata": {},
   "outputs": [],
   "source": [
    "vars(my_sphere)"
   ]
  },
  {
   "cell_type": "markdown",
   "metadata": {},
   "source": [
    "___________"
   ]
  },
  {
   "cell_type": "markdown",
   "metadata": {},
   "source": [
    "2. Crie uma classe `Retangulo` cujos atributos são `lado_a` e `lado_b`. \n",
    "\n",
    "Crie um método para calcular a área desse retângulo. \n",
    "\n",
    "Crie um objeto dessa classe e calcule a área e a imprima em seguida.\n"
   ]
  },
  {
   "cell_type": "code",
   "execution_count": null,
   "metadata": {},
   "outputs": [],
   "source": [
    "class Rectangle:\n",
    "    \n",
    "    def __init__(self, width, height):\n",
    "        \n",
    "        self.lado_a = width\n",
    "        \n",
    "        self.lado_b = height\n",
    "        \n",
    "    def __repr__(self):\n",
    "        \n",
    "        return f\"Os lados tem os valores {self.lado_a} cm e {self.lado_b} cm.\"\n",
    "        \n",
    "    def calcula_area(self):\n",
    "        \n",
    "        return self.lado_a*self.lado_b\n",
    "    \n",
    "    def calcula_perimetro(self):\n",
    "        \n",
    "        return 2*self.lado_a+2*self.lado_b"
   ]
  },
  {
   "cell_type": "code",
   "execution_count": null,
   "metadata": {},
   "outputs": [],
   "source": [
    "my_rectangle = Rectangle(10,6)"
   ]
  },
  {
   "cell_type": "code",
   "execution_count": null,
   "metadata": {},
   "outputs": [],
   "source": [
    "my_rectangle"
   ]
  },
  {
   "cell_type": "code",
   "execution_count": null,
   "metadata": {},
   "outputs": [],
   "source": [
    "my_rectangle.lado_a"
   ]
  },
  {
   "cell_type": "code",
   "execution_count": null,
   "metadata": {},
   "outputs": [],
   "source": [
    "my_rectangle.lado_b"
   ]
  },
  {
   "cell_type": "code",
   "execution_count": null,
   "metadata": {},
   "outputs": [],
   "source": [
    "my_rectangle.calcula_area()"
   ]
  },
  {
   "cell_type": "code",
   "execution_count": null,
   "metadata": {
    "scrolled": true
   },
   "outputs": [],
   "source": [
    "my_rectangle.calcula_perimetro()"
   ]
  },
  {
   "cell_type": "code",
   "execution_count": null,
   "metadata": {},
   "outputs": [],
   "source": [
    "vars(my_rectangle)"
   ]
  },
  {
   "cell_type": "markdown",
   "metadata": {},
   "source": [
    "___________"
   ]
  },
  {
   "cell_type": "markdown",
   "metadata": {},
   "source": [
    "3. Crie uma classe `Cliente` cujos atributos são nome, idade e e-mail. Construa um método que imprima as informações tal como abaixo:\n",
    "\n",
    "```\n",
    "Nome: Fulano de Tal\n",
    "Idade: 40\n",
    "E-mail: fulano@mail.com\n",
    "```"
   ]
  },
  {
   "cell_type": "markdown",
   "metadata": {},
   "source": [
    "### CLASSE CLIENTE, cria os objetos clientes e pode imprimir seus dados"
   ]
  },
  {
   "cell_type": "code",
   "execution_count": null,
   "metadata": {},
   "outputs": [],
   "source": [
    "class Client:\n",
    "    \n",
    "    def __init__(self, name, age, email):\n",
    "        \n",
    "        self.nome = name\n",
    "        \n",
    "        self.idade = age\n",
    "        \n",
    "        self.e_mail = email\n",
    "        \n",
    "    def __repr__(self):\n",
    "        \n",
    "        return f\"O nome do cliente é {self.nome}, sua idade é {self.idade} e seu e-mail é {self.e_mail}.\""
   ]
  },
  {
   "cell_type": "code",
   "execution_count": null,
   "metadata": {},
   "outputs": [],
   "source": [
    "cliente = Client('João', 34, 'joao@gmail.com')"
   ]
  },
  {
   "cell_type": "code",
   "execution_count": null,
   "metadata": {},
   "outputs": [],
   "source": [
    "cliente"
   ]
  },
  {
   "cell_type": "code",
   "execution_count": null,
   "metadata": {
    "scrolled": true
   },
   "outputs": [],
   "source": [
    "vars(cliente)"
   ]
  },
  {
   "cell_type": "code",
   "execution_count": null,
   "metadata": {},
   "outputs": [],
   "source": [
    "cliente_2 = Client('Maria',18,'maria@hotm.com')"
   ]
  },
  {
   "cell_type": "markdown",
   "metadata": {},
   "source": [
    "___________"
   ]
  },
  {
   "cell_type": "markdown",
   "metadata": {},
   "source": [
    "4. Com base no exercício anterior, crie um sistema de cadastro com dicionários e a classe `Cliente`; cada cliente deve ter como chave o seu CPF. Seu programa deve perguntar se o usuário quer cadastrar um novo cliente, alterar um cadastro ou sair. \n",
    "\n",
    "Obs.: tente fazer esse exercício pode criando uma classe `Sistema`, que irá controlar o sistema de cadastros. Essa classe deve ter o atributo cadastro e os métodos para imprimir os cadastrados, cadastrar um novo, alterar um cadastro ou sair."
   ]
  },
  {
   "cell_type": "markdown",
   "metadata": {},
   "source": [
    "### CLASSE sistema, recebe dois dicionários, um vazio e um criado na classe cliente e o cpf, para criar um novo dicionário com chave cpf e o cliente como valor"
   ]
  },
  {
   "cell_type": "code",
   "execution_count": null,
   "metadata": {},
   "outputs": [],
   "source": [
    "class System:\n",
    "    \n",
    "    cadastro_geral = {}\n",
    "    \n",
    "    def __init__(self, client: dict, cic: int):\n",
    "              \n",
    "        self.cliente = client\n",
    "        \n",
    "        self.cpf = cic\n",
    "    \n",
    "    def __repr__(self):\n",
    "        \n",
    "        return f\"{System.cadastro_geral}\"\n",
    "        \n",
    "    def process_client(self):\n",
    "        \n",
    "        System.cadastro_geral.update({self.cpf: self.cliente})\n",
    "        \n",
    "        return System.cadastro_geral\n",
    "        \n",
    "    def remove_client(self, cic):\n",
    "        \n",
    "        del System.cadastro_geral[cic]\n",
    "        \n",
    "        return System.cadastro_geral"
   ]
  },
  {
   "cell_type": "code",
   "execution_count": null,
   "metadata": {},
   "outputs": [],
   "source": [
    "sistema = System(vars(cliente), 123456)"
   ]
  },
  {
   "cell_type": "code",
   "execution_count": null,
   "metadata": {},
   "outputs": [],
   "source": [
    "sistema = System(vars(cliente_2), 456789)"
   ]
  },
  {
   "cell_type": "code",
   "execution_count": null,
   "metadata": {},
   "outputs": [],
   "source": [
    "sistema.process_client()"
   ]
  },
  {
   "cell_type": "code",
   "execution_count": null,
   "metadata": {
    "scrolled": true
   },
   "outputs": [],
   "source": [
    "vars(sistema)"
   ]
  },
  {
   "cell_type": "code",
   "execution_count": null,
   "metadata": {},
   "outputs": [],
   "source": [
    "sistema"
   ]
  },
  {
   "cell_type": "code",
   "execution_count": null,
   "metadata": {},
   "outputs": [],
   "source": [
    "System.cadastro_geral"
   ]
  },
  {
   "cell_type": "markdown",
   "metadata": {},
   "source": [
    "### ESSA FUNÇÃO permite o usuário criar um banco de dados com objetos das classes cliente e sistema"
   ]
  },
  {
   "cell_type": "code",
   "execution_count": null,
   "metadata": {},
   "outputs": [],
   "source": [
    "banco = {}\n",
    "\n",
    "sistema = {}"
   ]
  },
  {
   "cell_type": "code",
   "execution_count": null,
   "metadata": {},
   "outputs": [],
   "source": [
    "def add_alt_client():\n",
    "    \n",
    "    nome = input()\n",
    "    \n",
    "    idade = int(input())\n",
    "    \n",
    "    email = input()\n",
    "    \n",
    "    cpf = int(input())\n",
    "    \n",
    "    cliente = Client(nome, idade, email)\n",
    "    \n",
    "    cliente_dict = vars(cliente)\n",
    "    \n",
    "    sistema = System(banco, cliente_dict, cpf)\n",
    "    \n",
    "    sistema.process_client()\n",
    "    \n",
    "    print(banco)\n",
    "    \n",
    "    return cliente, sistema, banco"
   ]
  },
  {
   "cell_type": "code",
   "execution_count": null,
   "metadata": {},
   "outputs": [],
   "source": [
    "cliente, sistema, banco = add_alt_client()"
   ]
  },
  {
   "cell_type": "code",
   "execution_count": null,
   "metadata": {},
   "outputs": [],
   "source": []
  },
  {
   "cell_type": "code",
   "execution_count": null,
   "metadata": {},
   "outputs": [],
   "source": [
    "i = 0\n",
    "soma = 0\n",
    "\n",
    "for keys,dicts in banco.items():\n",
    "    i += 1\n",
    "    soma += dicts['idade']\n",
    "\n",
    "media = soma/i"
   ]
  },
  {
   "cell_type": "code",
   "execution_count": null,
   "metadata": {},
   "outputs": [],
   "source": []
  },
  {
   "cell_type": "markdown",
   "metadata": {},
   "source": [
    "___________"
   ]
  },
  {
   "cell_type": "markdown",
   "metadata": {},
   "source": [
    "5. Crie uma classe `Funcionario` cujos atributos são nome e e-mail. \n",
    "\n",
    "Guarde as horas trabalhadas em um dicionário cujas chaves são o mês em questão e, em outro dicionário, guarde o salário por hora relativo ao mês em questão. \n",
    "\n",
    "Crie um método que retorna o salário mensal do funcionário.\n"
   ]
  },
  {
   "cell_type": "code",
   "execution_count": null,
   "metadata": {},
   "outputs": [],
   "source": [
    "#dados_funcionarios = {'nome': {'mes1': ['horas_trab','salario_hora'], ... ,'mes12': ['horas_trab','salario_hora']}}"
   ]
  },
  {
   "cell_type": "code",
   "execution_count": null,
   "metadata": {},
   "outputs": [],
   "source": [
    "class Employee:\n",
    "    \n",
    "    '''\n",
    "    Classe de funcinários\n",
    "    '''\n",
    "    \n",
    "    all_employees = {}\n",
    "        \n",
    "    def __init__(self, name: str, email: str):\n",
    "        \n",
    "        '''\n",
    "        Método construtor, que inicializa os atributos nome e email.\n",
    "        '''\n",
    "        \n",
    "        self.nome = name\n",
    "        \n",
    "        self.e_mail = email\n",
    "    \n",
    "    def __repr__(self):\n",
    "        \n",
    "        return f\"{self.nome}: {Employee.all_employees[self.nome]}\"\n",
    "    \n",
    "    def payroll(self,month: int, work_hours: int, hour_salary: int):\n",
    "        \n",
    "        '''\n",
    "        Método que cria um dicionário com as chaves sendo cada funcionário, dentro\n",
    "        dicionários com chaves sendo o número dos meses, para cada mes, os valores\n",
    "        são listas com horas trabalhadas e salário/hora\n",
    "        '''        \n",
    "        \n",
    "        if not self.nome in Employee.all_employees: \n",
    "            \n",
    "            Employee.all_employees[self.nome] = {month: [work_hours,hour_salary]}\n",
    "        \n",
    "        else:\n",
    "        \n",
    "            Employee.all_employees[self.nome].update({month: [work_hours,hour_salary]})\n",
    "    \n",
    "    def month_salary(self, month):\n",
    "        \n",
    "        '''\n",
    "        Método que calcula o salário de cada mes escolhido, por funcionário escolhido.\n",
    "        '''\n",
    "        \n",
    "        return Employee.all_employees[self.nome][month][0]*Employee.all_employees[self.nome][month][1]"
   ]
  },
  {
   "cell_type": "code",
   "execution_count": null,
   "metadata": {},
   "outputs": [],
   "source": [
    "joao = Employee('João','joao@mail.com')"
   ]
  },
  {
   "cell_type": "code",
   "execution_count": null,
   "metadata": {},
   "outputs": [],
   "source": [
    "maria = Employee('Maria','maria@hotm.com')"
   ]
  },
  {
   "cell_type": "code",
   "execution_count": null,
   "metadata": {},
   "outputs": [],
   "source": [
    "joao.payroll(3,150,19)"
   ]
  },
  {
   "cell_type": "code",
   "execution_count": null,
   "metadata": {},
   "outputs": [],
   "source": [
    "joao.payroll(4,160,19)"
   ]
  },
  {
   "cell_type": "code",
   "execution_count": null,
   "metadata": {},
   "outputs": [],
   "source": [
    "maria.payroll(3,170,18)"
   ]
  },
  {
   "cell_type": "code",
   "execution_count": null,
   "metadata": {},
   "outputs": [],
   "source": [
    "joao"
   ]
  },
  {
   "cell_type": "code",
   "execution_count": null,
   "metadata": {},
   "outputs": [],
   "source": [
    "maria"
   ]
  },
  {
   "cell_type": "code",
   "execution_count": null,
   "metadata": {
    "scrolled": true
   },
   "outputs": [],
   "source": [
    "joao.month_salary(4)"
   ]
  },
  {
   "cell_type": "code",
   "execution_count": null,
   "metadata": {},
   "outputs": [],
   "source": [
    "Employee.all_employees"
   ]
  },
  {
   "cell_type": "markdown",
   "metadata": {},
   "source": [
    "___________"
   ]
  },
  {
   "cell_type": "markdown",
   "metadata": {},
   "source": [
    "6. Crie uma classe `ContaCorrente` com os atributos cliente (que deve ser um objeto da classe Cliente) e saldo. \n",
    "\n",
    "Crie métodos para depósito, saque e transferência. Os métodos de saque e transferência devem verificar se é possível realizar a transação."
   ]
  },
  {
   "cell_type": "code",
   "execution_count": null,
   "metadata": {},
   "outputs": [],
   "source": [
    "#saldo_correntistas = {'nome':'saldo'}"
   ]
  },
  {
   "cell_type": "code",
   "execution_count": null,
   "metadata": {},
   "outputs": [],
   "source": [
    "account_holder_balance_dict = {}\n",
    "\n",
    "class Checking_account:\n",
    "    \n",
    "    '''\n",
    "    Classe de conta corrente\n",
    "    '''\n",
    "    \n",
    "    def __init__(self, client: object, balance: float):\n",
    "        \n",
    "        '''\n",
    "        Método construtor, que inicia os atributos de cliente, que chama a classe\n",
    "        pré criada, Client e também um novo atributo, balance, que é o saldo.\n",
    "        '''\n",
    "        \n",
    "        self.cliente = client\n",
    "        \n",
    "        self.saldo = balance\n",
    "        \n",
    "    def __repr__(self):\n",
    "        \n",
    "        return f\"{self.cliente.nome}: R${account_holder_balance_dict[self.cliente.nome]}\"\n",
    "    \n",
    "    def deposit(self, value):\n",
    "        \n",
    "        self.saldo += value\n",
    "                  \n",
    "        account_holder_balance_dict[self.cliente.nome] = self.saldo\n",
    "    \n",
    "    def withdraw(self, value):\n",
    "        '''\n",
    "        Método que saca dinheiro da conta do correntista.\n",
    "        '''\n",
    "        \n",
    "        if account_holder_balance_dict[self.cliente.nome] >= value:\n",
    "            self.saldo -= value\n",
    "            account_holder_balance_dict[self.cliente.nome] = self.saldo\n",
    "        else:\n",
    "            print(f'Saldo insuficiente. Saldo atual: {self.saldo}')\n",
    "        \n",
    "    def transfer(self, value, recipient: object):\n",
    "        '''\n",
    "        Método que transfere um determinado valor da conta de um correntista, para outro\n",
    "        correntista, designado pelo nome, que é uma string, a chave do dicionário que\n",
    "        contém seu saldo.\n",
    "        \n",
    "        Args:\n",
    "        value: int (valor que precisa ser transferido)\n",
    "        recipient: object (conta_{variável do correntista}), ex: \"conta_joao\"\n",
    "        '''\n",
    "        \n",
    "        if self.saldo >= value:\n",
    "            self.saldo -= value\n",
    "            recipient.saldo += value\n",
    "            account_holder_balance_dict[self.cliente.nome] = self.saldo\n",
    "            account_holder_balance_dict[recipient.cliente.nome] = recipient.saldo\n",
    "        else:\n",
    "            print(f'Saldo insuficiente. Saldo atual: {self.saldo}')"
   ]
  },
  {
   "cell_type": "code",
   "execution_count": null,
   "metadata": {},
   "outputs": [],
   "source": [
    "jose = Client('José',34,'jose@email.com')"
   ]
  },
  {
   "cell_type": "code",
   "execution_count": null,
   "metadata": {},
   "outputs": [],
   "source": [
    "joao = Client('João',44,'joao@email.com')"
   ]
  },
  {
   "cell_type": "code",
   "execution_count": null,
   "metadata": {},
   "outputs": [],
   "source": [
    "maria = Client('Maria',23,'maria@gmail.com')"
   ]
  },
  {
   "cell_type": "code",
   "execution_count": null,
   "metadata": {},
   "outputs": [],
   "source": [
    "conta_jose = Checking_account(jose,0)"
   ]
  },
  {
   "cell_type": "code",
   "execution_count": null,
   "metadata": {},
   "outputs": [],
   "source": [
    "conta_joao = Checking_account(joao,100)"
   ]
  },
  {
   "cell_type": "code",
   "execution_count": null,
   "metadata": {},
   "outputs": [],
   "source": [
    "conta_maria = Checking_account(maria,434.4)"
   ]
  },
  {
   "cell_type": "code",
   "execution_count": null,
   "metadata": {
    "scrolled": true
   },
   "outputs": [],
   "source": [
    "conta_joao.deposit(100)"
   ]
  },
  {
   "cell_type": "code",
   "execution_count": null,
   "metadata": {},
   "outputs": [],
   "source": [
    "conta_jose.deposit(200)"
   ]
  },
  {
   "cell_type": "code",
   "execution_count": null,
   "metadata": {},
   "outputs": [],
   "source": [
    "conta_maria.deposit(1)"
   ]
  },
  {
   "cell_type": "code",
   "execution_count": null,
   "metadata": {
    "scrolled": true
   },
   "outputs": [],
   "source": [
    "conta_jose"
   ]
  },
  {
   "cell_type": "markdown",
   "metadata": {},
   "source": [
    "___________"
   ]
  },
  {
   "cell_type": "markdown",
   "metadata": {},
   "source": [
    "7. Crie uma classe `Televisor`cujos atributos são: fabricante; modelo; canal atual; lista de canais; volume.\n",
    "\n",
    "Faça métodos aumentar/diminuir volume, trocar o canal e sintonizar um novo canal, que adiciona um novo canal à lista de canais (somente se esse canal não estiver nessa lista). No atributo lista de canais, devem estar armazenados todos os canais já sintonizados dessa TV. \n",
    "\n",
    "Obs.: o volume não pode ser menor que zero e maior que cem; só se pode trocar para um canal que já esteja na lista de canais."
   ]
  },
  {
   "cell_type": "code",
   "execution_count": 1,
   "metadata": {},
   "outputs": [],
   "source": [
    "class Televisor:\n",
    "    '''\n",
    "    Classe que define tipos e modelos de aparelhos de TV\n",
    "    '''\n",
    "    \n",
    "    def __init__(self, fabricante: str, modelo: str, volume: int, canal = None, turned_on = False):\n",
    "        \n",
    "        self.manufact = fabricante\n",
    "        self.model = modelo\n",
    "        self.channel = canal\n",
    "        self.channel_list = {}\n",
    "        self.volume = volume\n",
    "        self.ligada = turned_on\n",
    "        \n",
    "    def __repr__(self):\n",
    "        \n",
    "        if self.ligada:\n",
    "            on_off = 'Ligada'\n",
    "            return f\"A TV {self.model} da {self.manufact} está {on_off}, no canal {self.channel} e no volume {self.volume}.\"\n",
    "        else:\n",
    "            on_off = 'Desligada'\n",
    "            return f\"A TV {self.model} da {self.manufact} está {on_off}.\"\n",
    "    \n",
    "    def on_off(self):\n",
    "        \n",
    "        if self.ligada:\n",
    "            self.ligada = False\n",
    "            print('TUF! A TV está desligada')\n",
    "        else:\n",
    "            self.ligada = True\n",
    "            print('PLIM! A TV está ligada')\n",
    "    \n",
    "    def change_volume(self):\n",
    "        \n",
    "        if self.ligada:\n",
    "        \n",
    "            print(self.volume)\n",
    "        \n",
    "            if self.volume == 0:\n",
    "                change_plus_less = '+'\n",
    "                change_ammount = int(input(\"Quantas vezes você vai apertar para aumentar o volume?\"))\n",
    "            elif self.volume == 100:\n",
    "                change_plus_less = '-'\n",
    "                change_ammount = int(input(\"Quantas vezes você vai apertar para diminuir o volume?\"))*(-1)\n",
    "            else:\n",
    "                change_plus_less = str(input(\"Qual botão você vai apertar, de aumentar (+) ou de diminuir (-) o volume?\"))\n",
    "                if change_plus_less == '+':\n",
    "                    change_ammount = int(input(\"Quantas vezes você vai apertar?\"))\n",
    "                else:\n",
    "                    change_ammount = int(input(\"Quantas vezes você vai apertar?\"))*(-1)\n",
    "                \n",
    "            self.volume += change_ammount\n",
    "        \n",
    "            if self.volume > 100:\n",
    "                self.volume = 100\n",
    "                print(f'O volume está em 100')\n",
    "            elif self.volume < 0:\n",
    "                self.volume = 0\n",
    "                print(f'O volume está em 0')\n",
    "            else:\n",
    "                print(f'O volume está em {self.volume}')\n",
    "        \n",
    "        else:\n",
    "            \n",
    "            print('Click, click... a TV está desligada!')\n",
    "    \n",
    "    def tune_new_channel(self):\n",
    "        '''\n",
    "        Novo canal tem que conter chave (número do canal) e valor (nome do canal).\n",
    "        '''\n",
    "        \n",
    "        if self.ligada:\n",
    "        \n",
    "            print(self.channel_list) if len(self.channel_list) !=0 else print('Shhhhhhhhhhhh... Não há canais sintonizados')\n",
    "        \n",
    "            new_channel_number = int(input('Qual é o número do novo canal encontrado?'))\n",
    "            new_channel_name = input('Qual é o nome do novo canal encontrado?')\n",
    "        \n",
    "            new_channel = {new_channel_number:new_channel_name}\n",
    "        \n",
    "            if new_channel_number not in self.channel_list.keys():\n",
    "                self.channel_list.update(new_channel)\n",
    "                print(self.channel_list)\n",
    "            else:\n",
    "                print('O Canal já está na lista')\n",
    "        \n",
    "        else:\n",
    "            \n",
    "            print('Click, click... a TV está desligada!')\n",
    "    \n",
    "    def change_channel(self):\n",
    "        \n",
    "        if self.ligada:\n",
    "            \n",
    "            if self.channel != None:\n",
    "                print(f'Você está assintindo {self.channel}')\n",
    "        \n",
    "            if len(self.channel_list) != 0:\n",
    "                print(self.channel_list)\n",
    "                change_to = int(input('Escolha um número dos canais acima para mudar'))\n",
    "                while change_to not in self.channel_list.keys():\n",
    "                    print('Canal inexistente')\n",
    "                    change_to = int(input('Escolha um número dos canais acima para mudar'))\n",
    "                else:\n",
    "                    print(f'Você está assintindo {self.channel_list[change_to]}')\n",
    "                    self.channel = self.channel_list[change_to]\n",
    "            else:\n",
    "                print('Shhhhhhhhhhhh... Não há canais sintonizados')\n",
    "            \n",
    "        else:\n",
    "            \n",
    "            print('Click, click... a TV está desligada!')"
   ]
  },
  {
   "cell_type": "code",
   "execution_count": 2,
   "metadata": {},
   "outputs": [],
   "source": [
    "tv = Televisor('Samsung','Plasma 50\"',0)"
   ]
  },
  {
   "cell_type": "code",
   "execution_count": null,
   "metadata": {},
   "outputs": [],
   "source": [
    "tv"
   ]
  },
  {
   "cell_type": "code",
   "execution_count": null,
   "metadata": {},
   "outputs": [],
   "source": [
    "tv.manufact"
   ]
  },
  {
   "cell_type": "code",
   "execution_count": null,
   "metadata": {},
   "outputs": [],
   "source": [
    "tv.model"
   ]
  },
  {
   "cell_type": "code",
   "execution_count": null,
   "metadata": {},
   "outputs": [],
   "source": [
    "tv.channel_list"
   ]
  },
  {
   "cell_type": "code",
   "execution_count": null,
   "metadata": {},
   "outputs": [],
   "source": [
    "tv.on_off()"
   ]
  },
  {
   "cell_type": "code",
   "execution_count": null,
   "metadata": {},
   "outputs": [],
   "source": [
    "tv.change_volume()"
   ]
  },
  {
   "cell_type": "code",
   "execution_count": null,
   "metadata": {},
   "outputs": [],
   "source": [
    "tv.volume"
   ]
  },
  {
   "cell_type": "code",
   "execution_count": null,
   "metadata": {},
   "outputs": [],
   "source": [
    "tv.change_channel()"
   ]
  },
  {
   "cell_type": "code",
   "execution_count": null,
   "metadata": {},
   "outputs": [],
   "source": [
    "tv.tune_new_channel()"
   ]
  },
  {
   "cell_type": "code",
   "execution_count": null,
   "metadata": {},
   "outputs": [],
   "source": [
    "tv.tune_new_channel()"
   ]
  },
  {
   "cell_type": "code",
   "execution_count": null,
   "metadata": {
    "scrolled": true
   },
   "outputs": [],
   "source": [
    "tv.change_channel()"
   ]
  },
  {
   "cell_type": "code",
   "execution_count": null,
   "metadata": {
    "scrolled": true
   },
   "outputs": [],
   "source": [
    "tv.change_channel()"
   ]
  },
  {
   "cell_type": "markdown",
   "metadata": {},
   "source": [
    "___________"
   ]
  },
  {
   "cell_type": "markdown",
   "metadata": {},
   "source": [
    "8. Crie uma classe `ControleRemoto` cujo atributo é televisão (isso é, recebe um objeto da classe do exercício 7). Crie métodos para aumentar/diminuir volume, trocar o canal e sintonizar um novo canal, que adiciona um novo canal à lista de canais (somente se esse canal não estiver nessa lista).\n"
   ]
  },
  {
   "cell_type": "code",
   "execution_count": 4,
   "metadata": {},
   "outputs": [],
   "source": [
    "class Remote_Control:\n",
    "    '''\n",
    "    Controla um objeto da classe Televisor\n",
    "    '''\n",
    "    \n",
    "    def __init__(self, batery_charge = None):\n",
    "        '''\n",
    "        Método construtor que define o atributo pilhas, que define se o controle está sem pilhas\n",
    "        (None), ou sua carga\n",
    "        '''\n",
    "        self.pilhas = batery_charge\n",
    "    \n",
    "    def __repr__(self):\n",
    "        \n",
    "        if self.pilhas == None:\n",
    "            return f\"O controle está sem pilhas\"\n",
    "        elif self.pilhas > 75:\n",
    "            return f\"O controle está com pilhas novinhas!\"\n",
    "        elif self.pilhas > 25 and self.pilhas <= 75:\n",
    "            return f\"O controle está com pilhas boas...\"\n",
    "        else:\n",
    "            return f\"As pilhas do controle estão acabando.\"\n",
    "    \n",
    "    def change_bateries(self):\n",
    "    \n",
    "        if self.pilhas != True:\n",
    "            print('Pronto, pilhas novinhas')\n",
    "            self.pilhas = 100\n",
    "    \n",
    "    def remote_on_off(self, televisor: object):\n",
    "        \n",
    "        if self.pilhas == None:\n",
    "            print('O controle está sem pilhas!')\n",
    "        elif self.pilhas == 0:\n",
    "            print('As pilhas estão muito fracas')\n",
    "        else:\n",
    "            televisor.on_off()\n",
    "            self.pilhas -= 1\n",
    "    \n",
    "    def remote_change_ch(self, televisor: object):\n",
    "    \n",
    "        if self.pilhas == None:\n",
    "            print('O controle está sem pilhas!')\n",
    "        elif self.pilhas == 0:\n",
    "            print('As pilhas estão muito fracas')\n",
    "        else:\n",
    "            televisor.change_channel()\n",
    "            self.pilhas -= 1\n",
    "    \n",
    "    def remote_tune_ch(self, televisor: object):\n",
    "        \n",
    "        if self.pilhas == None:\n",
    "            print('O controle está sem pilhas!')\n",
    "        elif self.pilhas == 0:\n",
    "            print('As pilhas estão muito fracas')\n",
    "        else:\n",
    "            televisor.tune_new_channel()\n",
    "            self.pilhas -= 1\n",
    "            \n",
    "    def remote_change_vol(self, televisor: object):\n",
    "        \n",
    "        if self.pilhas == None:\n",
    "            print('O controle está sem pilhas!')\n",
    "        elif self.pilhas == 0:\n",
    "            print('As pilhas estão muito fracas')\n",
    "        else:\n",
    "            televisor.change_volume()\n",
    "            self.pilhas -= 1"
   ]
  },
  {
   "cell_type": "code",
   "execution_count": 22,
   "metadata": {},
   "outputs": [
    {
     "data": {
      "text/plain": [
       "O controle está com pilhas boas..."
      ]
     },
     "execution_count": 22,
     "metadata": {},
     "output_type": "execute_result"
    }
   ],
   "source": [
    "controle"
   ]
  },
  {
   "cell_type": "code",
   "execution_count": 21,
   "metadata": {},
   "outputs": [
    {
     "data": {
      "text/plain": [
       "70"
      ]
     },
     "execution_count": 21,
     "metadata": {},
     "output_type": "execute_result"
    }
   ],
   "source": [
    "controle.pilhas"
   ]
  },
  {
   "cell_type": "code",
   "execution_count": null,
   "metadata": {
    "scrolled": true
   },
   "outputs": [],
   "source": [
    "controle.remote_on_off(tv)"
   ]
  },
  {
   "cell_type": "code",
   "execution_count": 19,
   "metadata": {},
   "outputs": [
    {
     "name": "stdout",
     "output_type": "stream",
     "text": [
      "Pronto, pilhas novinhas\n"
     ]
    }
   ],
   "source": [
    "controle.change_bateries()"
   ]
  },
  {
   "cell_type": "code",
   "execution_count": null,
   "metadata": {},
   "outputs": [],
   "source": [
    "controle"
   ]
  },
  {
   "cell_type": "code",
   "execution_count": 23,
   "metadata": {},
   "outputs": [],
   "source": [
    "controle.pilhas = 20"
   ]
  },
  {
   "cell_type": "code",
   "execution_count": 12,
   "metadata": {},
   "outputs": [
    {
     "name": "stdout",
     "output_type": "stream",
     "text": [
      "PLIM! A TV está ligada\n"
     ]
    }
   ],
   "source": [
    "controle.remote_on_off(tv)"
   ]
  },
  {
   "cell_type": "code",
   "execution_count": 13,
   "metadata": {
    "scrolled": true
   },
   "outputs": [
    {
     "name": "stdout",
     "output_type": "stream",
     "text": [
      "Shhhhhhhhhhhh... Não há canais sintonizados\n"
     ]
    }
   ],
   "source": [
    "controle.remote_change_ch(tv)"
   ]
  },
  {
   "cell_type": "code",
   "execution_count": null,
   "metadata": {},
   "outputs": [],
   "source": [
    "controle.remote_on_off(tv)"
   ]
  },
  {
   "cell_type": "code",
   "execution_count": null,
   "metadata": {},
   "outputs": [],
   "source": [
    "controle.remote_change_ch(tv)"
   ]
  },
  {
   "cell_type": "code",
   "execution_count": null,
   "metadata": {},
   "outputs": [],
   "source": [
    "controle.remote_on_off(tv)"
   ]
  },
  {
   "cell_type": "code",
   "execution_count": 15,
   "metadata": {},
   "outputs": [
    {
     "name": "stdout",
     "output_type": "stream",
     "text": [
      "{16: 'Grobo'}\n",
      "Qual é o número do novo canal encontrado?12\n",
      "Qual é o nome do novo canal encontrado?SBT\n",
      "{16: 'Grobo', 12: 'SBT'}\n"
     ]
    }
   ],
   "source": [
    "controle.remote_tune_ch(tv)"
   ]
  },
  {
   "cell_type": "code",
   "execution_count": 16,
   "metadata": {
    "scrolled": false
   },
   "outputs": [
    {
     "name": "stdout",
     "output_type": "stream",
     "text": [
      "{16: 'Grobo', 12: 'SBT'}\n",
      "Escolha um número dos canais acima para mudar17\n",
      "Canal inexistente\n",
      "Escolha um número dos canais acima para mudar16\n",
      "Você está assintindo Grobo\n"
     ]
    }
   ],
   "source": [
    "controle.remote_change_ch(tv)"
   ]
  },
  {
   "cell_type": "code",
   "execution_count": null,
   "metadata": {},
   "outputs": [],
   "source": [
    "controle.remote_change_vol(tv)"
   ]
  },
  {
   "cell_type": "markdown",
   "metadata": {},
   "source": [
    "___________"
   ]
  },
  {
   "cell_type": "markdown",
   "metadata": {},
   "source": [
    "9. O módulo (biblioteca) `time` possui a função `time.sleep(x)`, que faz seu programa “dormir” por x segundos. Utilizando essa função, crie uma classe `Cronômetro` e faça um programa que cronometre o tempo.\n"
   ]
  },
  {
   "cell_type": "code",
   "execution_count": null,
   "metadata": {},
   "outputs": [],
   "source": [
    "from time import sleep"
   ]
  },
  {
   "cell_type": "code",
   "execution_count": null,
   "metadata": {},
   "outputs": [],
   "source": [
    "class Chronometer:\n",
    "    '''\n",
    "    Define a classe timer, que se utiliza da biblioteca time para passar o tempo e registrar\n",
    "    '''\n",
    "    \n",
    "    def __init__(self):\n",
    "        \n",
    "        self.ligar = True\n",
    "    \n",
    "    def __repr__(self):\n",
    "            \n",
    "        return f\"Use ''nome_do_cronômetro.timer'' para definir um tempo\"\n",
    "        \n",
    "    def timer(self,segundo):\n",
    "        \n",
    "        while segundo >= 0:\n",
    "            print(segundo)\n",
    "            sleep(1)\n",
    "            segundo -= 1\n",
    "        \n",
    "        print('BEEP BEEP! O tempo acabou')"
   ]
  },
  {
   "cell_type": "code",
   "execution_count": null,
   "metadata": {},
   "outputs": [],
   "source": [
    "temporizador = Chronometer()"
   ]
  },
  {
   "cell_type": "code",
   "execution_count": null,
   "metadata": {},
   "outputs": [],
   "source": [
    "temporizador"
   ]
  },
  {
   "cell_type": "code",
   "execution_count": null,
   "metadata": {},
   "outputs": [],
   "source": [
    "temporizador.timer(10)"
   ]
  },
  {
   "cell_type": "markdown",
   "metadata": {},
   "source": [
    "___________"
   ]
  },
  {
   "cell_type": "markdown",
   "metadata": {},
   "source": [
    "10. Crie uma modelagem orientada a objetos para uma agenda capaz de armazenar contatos. Através dessa agenda é possível incluir, remover, buscar e listar contatos já cadastrados. \n",
    "\n",
    "Dica: siga o modelo do exercício 4.\n"
   ]
  },
  {
   "cell_type": "code",
   "execution_count": null,
   "metadata": {},
   "outputs": [],
   "source": [
    "class Contato:\n",
    "    \n",
    "    agenda = {}\n",
    "    \n",
    "    def __init__(self, nome, tefone, e_mail, endereco):\n",
    "        \n",
    "        self.name = nome\n",
    "        self.phone = tefone\n",
    "        self.email = e_mail\n",
    "        self.adress = endereco\n",
    "        \n",
    "    def __repr__(self):\n",
    "        \n",
    "        Contato.agenda.update({self.name: {'Telefone': self.phone, 'e-mail': self.email, 'Endereço': self.adress}})\n",
    "        \n",
    "        return f\"{self.name,Contato.agenda[self.name]}\""
   ]
  },
  {
   "cell_type": "code",
   "execution_count": null,
   "metadata": {},
   "outputs": [],
   "source": [
    "contato_1 = Contato('João', 988776, 'joao@mail.com', 'Rua Paolir da Silva, 43')"
   ]
  },
  {
   "cell_type": "code",
   "execution_count": null,
   "metadata": {},
   "outputs": [],
   "source": [
    "contato_1"
   ]
  },
  {
   "cell_type": "code",
   "execution_count": null,
   "metadata": {},
   "outputs": [],
   "source": [
    "contato_2 = Contato('Maria', 987654, 'maria@mail.com', 'Rua Silva de Paolir, 34, apto. 56A')"
   ]
  },
  {
   "cell_type": "code",
   "execution_count": null,
   "metadata": {
    "scrolled": true
   },
   "outputs": [],
   "source": [
    "contato_2"
   ]
  },
  {
   "cell_type": "code",
   "execution_count": null,
   "metadata": {},
   "outputs": [],
   "source": [
    "Contato.agenda"
   ]
  },
  {
   "cell_type": "code",
   "execution_count": null,
   "metadata": {},
   "outputs": [],
   "source": [
    "class Contact_Book:\n",
    "    \n",
    "    def __init__(self):\n",
    "        \n",
    "        self.agenda = {}\n",
    "    \n",
    "    def __repr__(self):\n",
    "        \n",
    "        return f\"{self.agenda}\"\n",
    "    \n",
    "    def alt_book(self):\n",
    "        \n",
    "        print(self.agenda)\n",
    "        \n",
    "        print('Você pode inserir um novo contato ou alterar um existente')\n",
    "        \n",
    "        name = input('Nome do contato: ')\n",
    "        phone = int(input('Telefone do Contato: '))\n",
    "        email = input('e-mail do contato: ')\n",
    "        adress = input('Endereço do contato: ')\n",
    "        \n",
    "        self.agenda.update({name: {'Telefone': phone, 'e-mail': email, 'Endereço': adress}})\n",
    "    \n",
    "    def del_contact(self):\n",
    "        \n",
    "        name = input('Digite o nome do contato que deseja remover: ')\n",
    "        del self.agenda[name]"
   ]
  },
  {
   "cell_type": "code",
   "execution_count": null,
   "metadata": {},
   "outputs": [],
   "source": [
    "agenda_familia = Contact_Book()"
   ]
  },
  {
   "cell_type": "code",
   "execution_count": null,
   "metadata": {},
   "outputs": [],
   "source": [
    "agenda_familia"
   ]
  },
  {
   "cell_type": "code",
   "execution_count": null,
   "metadata": {},
   "outputs": [],
   "source": [
    "agenda_familia.alt_book()"
   ]
  },
  {
   "cell_type": "code",
   "execution_count": null,
   "metadata": {
    "scrolled": true
   },
   "outputs": [],
   "source": [
    "agenda_familia.agenda"
   ]
  },
  {
   "cell_type": "code",
   "execution_count": null,
   "metadata": {},
   "outputs": [],
   "source": [
    "agenda_familia"
   ]
  },
  {
   "cell_type": "code",
   "execution_count": null,
   "metadata": {},
   "outputs": [],
   "source": [
    "agenda_familia.alt_book()"
   ]
  },
  {
   "cell_type": "code",
   "execution_count": null,
   "metadata": {},
   "outputs": [],
   "source": [
    "agenda_familia"
   ]
  },
  {
   "cell_type": "code",
   "execution_count": null,
   "metadata": {},
   "outputs": [],
   "source": [
    "agenda_familia.del_contact()"
   ]
  },
  {
   "cell_type": "code",
   "execution_count": null,
   "metadata": {},
   "outputs": [],
   "source": [
    "agenda_familia.agenda"
   ]
  },
  {
   "cell_type": "code",
   "execution_count": null,
   "metadata": {},
   "outputs": [],
   "source": [
    "agenda_familia.alt_book()"
   ]
  },
  {
   "cell_type": "code",
   "execution_count": null,
   "metadata": {},
   "outputs": [],
   "source": [
    "agenda_familia.agenda"
   ]
  },
  {
   "cell_type": "code",
   "execution_count": null,
   "metadata": {},
   "outputs": [],
   "source": [
    "agenda_trabalho = Contact_Book()"
   ]
  },
  {
   "cell_type": "code",
   "execution_count": null,
   "metadata": {},
   "outputs": [],
   "source": [
    "agenda_trabalho"
   ]
  },
  {
   "cell_type": "code",
   "execution_count": null,
   "metadata": {},
   "outputs": [],
   "source": [
    "agenda_trabalho.alt_book()"
   ]
  },
  {
   "cell_type": "code",
   "execution_count": null,
   "metadata": {},
   "outputs": [],
   "source": [
    "agenda_trabalho.agenda"
   ]
  },
  {
   "cell_type": "code",
   "execution_count": null,
   "metadata": {},
   "outputs": [],
   "source": [
    "agenda_familia.agenda"
   ]
  },
  {
   "cell_type": "code",
   "execution_count": null,
   "metadata": {},
   "outputs": [],
   "source": [
    "Contato.agenda"
   ]
  },
  {
   "cell_type": "code",
   "execution_count": null,
   "metadata": {},
   "outputs": [],
   "source": []
  }
 ],
 "metadata": {
  "kernelspec": {
   "display_name": "Python 3 (ipykernel)",
   "language": "python",
   "name": "python3"
  },
  "language_info": {
   "codemirror_mode": {
    "name": "ipython",
    "version": 3
   },
   "file_extension": ".py",
   "mimetype": "text/x-python",
   "name": "python",
   "nbconvert_exporter": "python",
   "pygments_lexer": "ipython3",
   "version": "3.9.7"
  }
 },
 "nbformat": 4,
 "nbformat_minor": 4
}
